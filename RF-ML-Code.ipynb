{
 "cells": [
  {
   "cell_type": "code",
   "execution_count": 46,
   "metadata": {},
   "outputs": [
    {
     "name": "stdout",
     "output_type": "stream",
     "text": [
      "0.96\n",
      "[0.09920058 0.00273288 0.43819932 0.45986723]\n",
      "0.9466666666666667\n",
      "1.0\n",
      "[0.1833197  0.23266284 0.21252682 0.37149063]\n",
      "1.0\n",
      "[0.1833197  0.23266284 0.21252682 0.37149063]\n"
     ]
    }
   ],
   "source": [
    "##RandomForest for iris dataset\n",
    "import numpy as np\n",
    "import matplotlib.pyplot as plt\n",
    "from sklearn.datasets import load_iris\n",
    "from sklearn.model_selection import train_test_split, cross_val_score\n",
    "from sklearn.tree import DecisionTreeClassifier\n",
    "from sklearn.ensemble import RandomForestClassifier, AdaBoostClassifier, BaggingClassifier\n",
    "from sklearn.metrics import accuracy_score\n",
    "X=load_iris().data\n",
    "Y=load_iris().target\n",
    "forest=RandomForestClassifier(n_estimators=100, max_depth=2,criterion='entropy',random_state=10)\n",
    "forest.fit(X,Y)\n",
    "yforest=forest.predict(X)\n",
    "print(accuracy_score(Y,yforest))\n",
    "print(forest.feature_importances_)\n",
    "print(cross_val_score(forest,X,Y,cv=10).mean())\n",
    "\n",
    "##AdaBoostClassifier on iris dataset\n",
    "model=AdaBoostClassifier(DecisionTreeClassifier(max_depth=3),n_estimators=100)#default,weak learners decision stumps.\n",
    "model.fit(X,Y)\n",
    "ymodel=model.predict(X)\n",
    "print(accuracy_score(Y,ymodel))\n",
    "print(model.feature_importances_)\n",
    "\n",
    "##BaggingClassifier on iris dataset\n",
    "bag=BaggingClassifier(n_estimators=100)\n",
    "bag.fit(X,Y)\n",
    "ybag=bag.predict(X)\n",
    "print(accuracy_score(Y,ybag))\n",
    "print(model.feature_importances_)"
   ]
  },
  {
   "cell_type": "code",
   "execution_count": 45,
   "metadata": {},
   "outputs": [
    {
     "name": "stdout",
     "output_type": "stream",
     "text": [
      "0.884\n"
     ]
    },
    {
     "data": {
      "text/plain": [
       "array([0.2046279 , 0.32918505, 0.45077152, 0.01541553])"
      ]
     },
     "execution_count": 45,
     "metadata": {},
     "output_type": "execute_result"
    }
   ],
   "source": [
    "##make_selection dataset\n",
    "from sklearn.datasets import make_gaussian_quantiles, make_classification\n",
    "X,Y=make_classification(n_samples=1000, n_features=4, random_state=10, shuffle=True)\n",
    "model=AdaBoostClassifier(n_estimators=100,algorithm=\"SAMME\")\n",
    "model.fit(X,Y)\n",
    "print(model.score(X,Y))\n",
    "model.feature_importances_"
   ]
  }
 ],
 "metadata": {
  "kernelspec": {
   "display_name": "Python 3",
   "language": "python",
   "name": "python3"
  },
  "language_info": {
   "codemirror_mode": {
    "name": "ipython",
    "version": 3
   },
   "file_extension": ".py",
   "mimetype": "text/x-python",
   "name": "python",
   "nbconvert_exporter": "python",
   "pygments_lexer": "ipython3",
   "version": "3.8.10"
  }
 },
 "nbformat": 4,
 "nbformat_minor": 2
}
