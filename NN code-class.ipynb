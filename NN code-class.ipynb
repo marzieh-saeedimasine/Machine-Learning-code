{
 "cells": [
  {
   "cell_type": "code",
   "execution_count": 1,
   "id": "2d77c5fd",
   "metadata": {},
   "outputs": [],
   "source": [
    "import numpy as np\n",
    "import pandas as pd\n",
    "import  matplotlib.pyplot as plt"
   ]
  },
  {
   "cell_type": "code",
   "execution_count": 2,
   "id": "7504632f",
   "metadata": {},
   "outputs": [],
   "source": [
    "df = pd.read_csv(\"insurance_data.csv\")\n",
    "df.age=df.age/100\n",
    "X=df[['age','affordibility']]\n",
    "Y=df.bought_insurance"
   ]
  },
  {
   "cell_type": "code",
   "execution_count": 3,
   "id": "57a0ebf8",
   "metadata": {},
   "outputs": [],
   "source": [
    "def sigmoid_numpy(X):\n",
    "   return 1/(1+np.exp(-X))"
   ]
  },
  {
   "cell_type": "code",
   "execution_count": 4,
   "id": "a3128301",
   "metadata": {},
   "outputs": [],
   "source": [
    "def log_loss(y_true, y_predicted):\n",
    "    return -np.mean(y_true*np.log(y_predicted)+(1-y_true)*np.log(1-y_predicted))"
   ]
  },
  {
   "cell_type": "code",
   "execution_count": 62,
   "id": "4ccea9a1",
   "metadata": {},
   "outputs": [],
   "source": [
    "class myNN:\n",
    "    def __init__(self):\n",
    "        self.w1 = 1 \n",
    "        self.w2 = 1\n",
    "        self.bias = 0\n",
    "    def gradient_descent(self, X, Y, epochs, loss_thresold):\n",
    "        w1 = w2 = 1\n",
    "        bias = 0\n",
    "        rate = 0.5\n",
    "        n = X.shape[0]\n",
    "        for i in range(epochs):\n",
    "            weighted_sum = w1 * X[X.columns[0]] + w2 * X[X.columns[0]] + bias\n",
    "            y_predicted = sigmoid_numpy(weighted_sum)\n",
    "            loss = log_loss(Y, y_predicted)\n",
    "            \n",
    "            w1d = (1/n)*np.dot(X[X.columns[0]].T,(y_predicted-Y)) \n",
    "            w2d = (1/n)*np.dot(X[X.columns[1]].T,(y_predicted-Y)) \n",
    "\n",
    "            bias_d = np.mean(y_predicted-Y)\n",
    "            w1 = w1 - rate * w1d\n",
    "            w2 = w2 - rate * w2d\n",
    "            bias = bias - rate * bias_d\n",
    "            \n",
    "            if i%50==0:\n",
    "                print (f'Epoch:{i}, w1:{w1}, w2:{w2}, bias:{bias}, loss:{loss}')\n",
    "            \n",
    "            if loss<=loss_thresold:\n",
    "                print (f'Epoch:{i}, w1:{w1}, w2:{w2}, bias:{bias}, loss:{loss}')\n",
    "                break\n",
    "\n",
    "        return w1, w2, bias\n",
    "    def fit(self, X, Y, epochs, loss_thresold):\n",
    "        self.w1, self.w2, self.bias = self.gradient_descent(X, Y, epochs, loss_thresold)\n",
    "        print(f\"Final weights and bias: w1: {self.w1}, w2: {self.w2}, bias: {self.bias}\")\n",
    "        \n",
    "    def predict(self, X_test):\n",
    "        weighted_sum = self.w1*X_test[0] + self.w2*X_test[1] + self.bias\n",
    "        return sigmoid_numpy(weighted_sum)"
   ]
  },
  {
   "cell_type": "code",
   "execution_count": 63,
   "id": "57e943bc",
   "metadata": {},
   "outputs": [
    {
     "name": "stdout",
     "output_type": "stream",
     "text": [
      "Epoch:0, w1:0.9846732913797102, w2:0.9784416500604985, bias:-0.0929236044198649, loss:0.6738286185808612\n",
      "Epoch:50, w1:1.4642246304589235, w2:2.148240373568845, bias:-1.3091984834739865, loss:0.54073724381559\n",
      "Epoch:100, w1:1.8960185110331045, w2:3.4900211445559197, bias:-2.0280489168918288, loss:0.4889350247949037\n",
      "Epoch:150, w1:2.1719514125610275, w2:4.756338356441231, bias:-2.6533282372773237, loss:0.45596551477157127\n",
      "Epoch:163, w1:2.222941048993272, w2:5.074521379384149, bias:-2.803195112400282, loss:0.44957565152618695\n",
      "Final weights and bias: w1: 2.222941048993272, w2: 5.074521379384149, bias: -2.803195112400282\n"
     ]
    }
   ],
   "source": [
    "customModel = myNN()\n",
    "customModel.fit(X,Y, epochs=8000, loss_thresold=0.45)"
   ]
  },
  {
   "cell_type": "code",
   "execution_count": 64,
   "id": "cfcc7fae",
   "metadata": {},
   "outputs": [
    {
     "data": {
      "text/plain": [
       "0.09556879833255548"
      ]
     },
     "execution_count": 64,
     "metadata": {},
     "output_type": "execute_result"
    }
   ],
   "source": [
    "customModel.predict([0.25,0])"
   ]
  },
  {
   "cell_type": "code",
   "execution_count": 6,
   "id": "e7c807e4",
   "metadata": {},
   "outputs": [],
   "source": [
    "def gradient_descent(X, Y, epochs, loss_thresold, learning_rate):\n",
    "        number_of_features=X.shape[1]\n",
    "        w=np.ones(shape=number_of_features)\n",
    "        bias=0\n",
    "        n = X.shape[0]\n",
    "        cost_list=[]\n",
    "        epochs_list=[]\n",
    "        \n",
    "        for i in range(epochs):\n",
    "            weighted_sum = np.dot(w,X.T) + bias\n",
    "            y_predicted = sigmoid_numpy(weighted_sum)\n",
    "            MSE=np.mean(np.square(Y-y_predicted))\n",
    "\n",
    "            \n",
    "            w_grad = -(2/n)*np.dot(X.T,Y-y_predicted)\n",
    "            b_grad = -(2/n)*np.sum(Y-y_predicted)\n",
    "            w = w - learning_rate * w_grad\n",
    "            bias = bias - learning_rate * b_grad         \n",
    "            \n",
    "            if i%10==0:\n",
    "                cost_list.append(MSE)\n",
    "                epochs_list.append(i)\n",
    "            \n",
    "            if MSE<=loss_thresold:\n",
    "                print (f'Epoch:{i}, w:{w}, bias:{bias}, loss:{MSE}')\n",
    "                break\n",
    "\n",
    "        return w, bias, cost_list,epochs_list"
   ]
  },
  {
   "cell_type": "code",
   "execution_count": 11,
   "id": "b8d63fb0",
   "metadata": {},
   "outputs": [
    {
     "name": "stdout",
     "output_type": "stream",
     "text": [
      "Epoch:915, w:[11.20961774  1.90605992], bias:-5.867211105714951, loss:0.09999739253183552\n"
     ]
    }
   ],
   "source": [
    "w, bias, cost_list,epochs_list=gradient_descent(X, Y, 8000,0.1, learning_rate=0.5)"
   ]
  },
  {
   "cell_type": "code",
   "execution_count": 13,
   "id": "194dddf4",
   "metadata": {},
   "outputs": [
    {
     "data": {
      "text/plain": [
       "[<matplotlib.lines.Line2D at 0x7f56df0371f0>]"
      ]
     },
     "execution_count": 13,
     "metadata": {},
     "output_type": "execute_result"
    },
    {
     "data": {
      "image/png": "[encoded data removed]",
      "text/plain": [
       "<Figure size 432x288 with 1 Axes>"
      ]
     },
     "metadata": {
      "needs_background": "light"
     },
     "output_type": "display_data"
    }
   ],
   "source": [
    "plt.plot(epochs_list,cost_list, marker='*')"
   ]
  },
  {
   "cell_type": "markdown",
   "id": "2fe59728",
   "metadata": {},
   "source": [
    "# stochastic_gradient_descent"
   ]
  },
  {
   "cell_type": "code",
   "execution_count": 148,
   "id": "639639ee",
   "metadata": {},
   "outputs": [],
   "source": [
    "def stochastic_gradient_descent(X, Y, epochs, loss_thresold, learning_rate):\n",
    "        number_of_features=X.shape[1]\n",
    "        w=np.ones(shape=number_of_features)\n",
    "        bias=0\n",
    "        n = X.shape[0]\n",
    "        cost_list=[]\n",
    "        epochs_list=[]\n",
    "        for i in range(epochs):\n",
    "            sample_list=list(np.random.randint(0,n-1,size=10))\n",
    "            X_sample=X.iloc[sample_list] \n",
    "            Y_sample=Y.iloc[sample_list] \n",
    "            weighted_sum = np.dot(w,X_sample.T) + bias\n",
    "            y_predicted = sigmoid_numpy(weighted_sum)\n",
    "            MSE=np.mean(np.square(Y_sample-y_predicted))\n",
    "\n",
    "            \n",
    "            w_grad = -2*np.dot(X_sample.T,Y_sample-y_predicted)\n",
    "            b_grad = -2*np.sum(Y_sample-y_predicted)\n",
    "            w = w - learning_rate * w_grad\n",
    "            bias = bias - learning_rate * b_grad         \n",
    "            \n",
    "            if i%10==0:\n",
    "                cost_list.append(MSE)\n",
    "                epochs_list.append(i)\n",
    "                print (f'Epoch:{i}, w:{w}, bias:{bias}, loss:{MSE}')\n",
    "            \n",
    "            if MSE<=loss_thresold:\n",
    "                print (f'Epoch:{i}, w:{w}, bias:{bias}, loss:{MSE}')\n",
    "                break\n",
    "\n",
    "        return w, bias, cost_list,epochs_list"
   ]
  },
  {
   "cell_type": "code",
   "execution_count": 149,
   "id": "0783386d",
   "metadata": {},
   "outputs": [
    {
     "name": "stdout",
     "output_type": "stream",
     "text": [
      "Epoch:0, w:[0.86339286 0.64914488], bias:-0.5334842859784031, loss:0.4115984600176999\n",
      "Epoch:10, w:[1.15215136 1.1233869 ], bias:-0.9128359049796501, loss:0.15747003331400297\n",
      "Epoch:20, w:[1.48707483 1.19175894], bias:-1.1514049283158458, loss:0.1948717842269432\n",
      "Epoch:30, w:[1.82777835 1.27482577], bias:-1.3297562055610364, loss:0.19860536693663616\n",
      "Epoch:40, w:[2.13228746 1.44975298], bias:-1.5066645556664449, loss:0.19417241008034578\n",
      "Epoch:50, w:[2.33832122 1.21406719], bias:-1.90233148098767, loss:0.18149220451556722\n",
      "Epoch:60, w:[2.62269573 1.49029573], bias:-2.14044603298882, loss:0.15611611506609652\n",
      "Epoch:70, w:[2.97752154 1.57625019], bias:-2.234869120204697, loss:0.15003489967865558\n",
      "Epoch:80, w:[3.30966093 1.62618851], bias:-2.3646609568663153, loss:0.1108844819102813\n",
      "Epoch:90, w:[3.59167023 1.37395338], bias:-2.5481034995069165, loss:0.19043158033131738\n",
      "Epoch:100, w:[3.94761346 1.6150412 ], bias:-2.5262951798160542, loss:0.11229103203707388\n",
      "Epoch:110, w:[4.15068667 1.77072352], bias:-2.8454895590316154, loss:0.08079357675187933\n",
      "Epoch:120, w:[4.52157867 1.81198334], bias:-2.9161669056291064, loss:0.0938240565968558\n",
      "Epoch:130, w:[4.89275214 1.72134794], bias:-2.723438139482688, loss:0.08554009821006502\n",
      "Epoch:140, w:[5.2900533  1.54277629], bias:-2.661770079889004, loss:0.07554049274475141\n",
      "Epoch:150, w:[5.26249886 1.52724122], bias:-3.2231494466222377, loss:0.04415716148395997\n",
      "Epoch:160, w:[5.55423814 1.47508258], bias:-3.2182839962963325, loss:0.12760975099572752\n",
      "Epoch:170, w:[5.78875545 1.47978888], bias:-3.37626677577968, loss:0.10752452353000282\n",
      "Epoch:180, w:[6.04399341 1.55504821], bias:-3.34156977321897, loss:0.09087450896937811\n",
      "Epoch:190, w:[6.18733721 1.70823988], bias:-3.3689268253317866, loss:0.07556858946496642\n",
      "Epoch:200, w:[6.23686582 2.08970399], bias:-3.651707086370694, loss:0.11587044214548174\n",
      "Epoch:210, w:[6.32719148 2.24921641], bias:-3.8612873283988263, loss:0.06047843748382344\n",
      "Epoch:220, w:[6.42322272 2.25666367], bias:-4.0606431015230715, loss:0.15315139897302676\n",
      "Epoch:230, w:[6.60549379 2.15598117], bias:-4.303102497389665, loss:0.06454056207653172\n",
      "Epoch:240, w:[6.92758714 2.26911946], bias:-4.037197830275634, loss:0.1149453059855429\n",
      "Epoch:250, w:[7.07651099 2.05084389], bias:-4.226487143138958, loss:0.08684578235005498\n",
      "Epoch:260, w:[7.1369439  1.90063111], bias:-4.465768938587801, loss:0.07371316053131852\n",
      "Epoch:270, w:[7.37064114 2.11968978], bias:-4.392481738587694, loss:0.029488026560035484\n",
      "Epoch:280, w:[7.59563428 2.06565261], bias:-4.373688848776613, loss:0.06815660295380377\n",
      "Epoch:290, w:[7.74253415 1.99819985], bias:-4.401859483357927, loss:0.07818961145020821\n",
      "Epoch:300, w:[7.96028581 2.00457001], bias:-4.426885923743474, loss:0.05853478676337646\n",
      "Epoch:310, w:[8.06879743 1.75958263], bias:-4.602353786496535, loss:0.055829006269228446\n",
      "Epoch:320, w:[8.29387272 1.85230323], bias:-4.2256393959108065, loss:0.061038958627043574\n",
      "Epoch:330, w:[8.37061405 1.80029231], bias:-4.4767831829717855, loss:0.08482946496671115\n",
      "Epoch:340, w:[8.52816077 1.83841091], bias:-4.5600933429903865, loss:0.10870593008878279\n",
      "Epoch:350, w:[8.56852791 1.84391586], bias:-4.451097451523729, loss:0.06902462617461484\n",
      "Epoch:360, w:[8.66436262 1.82796449], bias:-4.719010626082336, loss:0.054537598389548726\n",
      "Epoch:370, w:[8.88807527 1.78282961], bias:-4.675481396169089, loss:0.1433852596608055\n",
      "Epoch:380, w:[8.89203733 2.08639918], bias:-4.989678648495931, loss:0.03388603465264102\n",
      "Epoch:390, w:[8.98430557 1.90681962], bias:-4.934581535288172, loss:0.06178020116653475\n",
      "Epoch:400, w:[9.05138403 1.94926072], bias:-5.001327564692517, loss:0.0640287650806203\n",
      "Epoch:410, w:[9.24104707 1.90791146], bias:-4.820311848419878, loss:0.14124379435244389\n",
      "Epoch:420, w:[9.31660344 1.98082754], bias:-4.79177473106483, loss:0.050063656420890536\n",
      "Epoch:430, w:[9.33804168 1.93512344], bias:-5.020776356264682, loss:0.05968709636024681\n",
      "Epoch:440, w:[9.51505565 1.91891039], bias:-4.970787308862364, loss:0.10116963939685297\n",
      "Epoch:450, w:[9.66761543 2.01060793], bias:-5.015427347929692, loss:0.06062590751342425\n",
      "Epoch:460, w:[9.79473402 2.06428921], bias:-4.952393657642311, loss:0.10335491851839299\n",
      "Epoch:470, w:[9.84962524 1.89181729], bias:-4.893928672116761, loss:0.14869211089961362\n",
      "Epoch:480, w:[9.9138951  1.79555139], bias:-4.859232466068225, loss:0.042725093138629926\n",
      "Epoch:490, w:[9.9677118  1.77854793], bias:-4.881010592837438, loss:0.147465922485\n",
      "Epoch:500, w:[9.92020212 1.72442069], bias:-5.275905094616833, loss:0.16470442884282116\n",
      "Epoch:510, w:[10.11564586  1.87142905], bias:-5.002892198765151, loss:0.05396588910389828\n",
      "Epoch:520, w:[10.10241806  1.86750831], bias:-5.36627621962988, loss:0.08464504335706771\n",
      "Epoch:524, w:[10.22846259  1.94303485], bias:-5.211501484097915, loss:0.009982362756743024\n"
     ]
    }
   ],
   "source": [
    "w, bias, cost_list,epochs_list=stochastic_gradient_descent(X, Y, 5000,0.01, learning_rate=0.05)"
   ]
  },
  {
   "cell_type": "code",
   "execution_count": 150,
   "id": "95fac672",
   "metadata": {},
   "outputs": [
    {
     "data": {
      "text/plain": [
       "[<matplotlib.lines.Line2D at 0x7fe8373f9d30>]"
      ]
     },
     "execution_count": 150,
     "metadata": {},
     "output_type": "execute_result"
    },
    {
     "data": {
      "image/png": "[encoded data removed]",
      "text/plain": [
       "<Figure size 432x288 with 1 Axes>"
      ]
     },
     "metadata": {
      "needs_background": "light"
     },
     "output_type": "display_data"
    }
   ],
   "source": [
    "plt.plot(epochs_list,cost_list, marker='*')"
   ]
  },
  {
   "cell_type": "code",
   "execution_count": null,
   "id": "410da473",
   "metadata": {},
   "outputs": [],
   "source": []
  }
 ],
 "metadata": {
  "kernelspec": {
   "display_name": "Python 3",
   "language": "python",
   "name": "python3"
  },
  "language_info": {
   "codemirror_mode": {
    "name": "ipython",
    "version": 3
   },
   "file_extension": ".py",
   "mimetype": "text/x-python",
   "name": "python",
   "nbconvert_exporter": "python",
   "pygments_lexer": "ipython3",
   "version": "3.8.10"
  }
 },
 "nbformat": 4,
 "nbformat_minor": 5
}
