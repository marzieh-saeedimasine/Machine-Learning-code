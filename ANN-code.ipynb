{
 "cells": [
  {
   "cell_type": "code",
   "execution_count": 1,
   "metadata": {},
   "outputs": [],
   "source": [
    "import numpy as np \n",
    "import math"
   ]
  },
  {
   "cell_type": "code",
   "execution_count": 2,
   "metadata": {},
   "outputs": [],
   "source": [
    "def relu(X):\n",
    "    return np.maximum(X, 0)"
   ]
  },
  {
   "cell_type": "code",
   "execution_count": 3,
   "metadata": {},
   "outputs": [],
   "source": [
    "def build_model(X, hidden_nodes , output_dim=2):\n",
    "    model = {} \n",
    "    input_dim = X.shape[1]\n",
    "    print(input_dim)    \n",
    "    model['W1'] = np.random.randn(input_dim, hidden_nodes) / np.sqrt(input_dim)\n",
    "    model['b1'] = np.zeros((1, hidden_nodes))\n",
    "    model['W2'] = np.random.randn(hidden_nodes, output_dim) / np.sqrt(hidden_nodes)\n",
    "    model['b2'] = np.zeros((1, output_dim))\n",
    "    return model"
   ]
  },
  {
   "cell_type": "code",
   "execution_count": 4,
   "metadata": {},
   "outputs": [],
   "source": [
    "def feed_forward(model, x):\n",
    "    W1, b1, W2, b2 = model['W1'], model['b1'], model['W2'], model['b2']\n",
    "    z1 = x.dot(W1) + b1\n",
    "    a1 = relu(z1)\n",
    "    z2 = a1.dot(W2) + b2\n",
    "    exp_scores = np.exp(z2)\n",
    "    out = exp_scores / np.sum(exp_scores, axis=1, keepdims=True)\n",
    "    return z1, a1, z2, out"
   ]
  },
  {
   "cell_type": "code",
   "execution_count": 5,
   "metadata": {},
   "outputs": [],
   "source": [
    "def calculate_loss(model,X,y,reg_lambda):\n",
    "    num_examples = X.shape[0]\n",
    "    W1, b1, W2, b2 = model['W1'], model['b1'], model['W2'], model['b2']\n",
    "    z1, a1, z2, out = feed_forward(model, X)\n",
    "    probs = out / np.sum(out, axis=1, keepdims=True)    \n",
    "    corect_logprobs = -np.log(probs[range(num_examples), y])\n",
    "    loss = np.sum(corect_logprobs)    \n",
    "####Add regulatization term to loss (optional)\n",
    "    loss = loss + reg_lambda/2 * (np.sum(np.square(W1)) + np.sum(np.square(W2)))\n",
    "    return 1./num_examples * loss"
   ]
  },
  {
   "cell_type": "code",
   "execution_count": 6,
   "metadata": {},
   "outputs": [],
   "source": [
    "def relu_derivative(X):\n",
    "    return 1. * (X > 0)"
   ]
  },
  {
   "cell_type": "code",
   "execution_count": 7,
   "metadata": {},
   "outputs": [],
   "source": [
    "def backprop(X,y,model,z1,a1,z2,output,reg_lambda):\n",
    "    delta3 = output\n",
    "    delta3[range(X.shape[0]), y] -= 1      #yhat - y\n",
    "    dW2 = (a1.T).dot(delta3)\n",
    "    db2 = np.sum(delta3, axis=0, keepdims=True)\n",
    "    \n",
    "    delta2 = delta3.dot(model['W2'].T) * relu_derivative(a1) \n",
    "    dW1 = np.dot(X.T, delta2)\n",
    "    db1 = np.sum(delta2, axis=0)\n",
    "   \n",
    "    # Add regularization terms\n",
    "    dW2 = dW2 + reg_lambda * model['W2']\n",
    "    dW1 = dW1 + reg_lambda * model['W1']\n",
    "    return dW1, dW2, db1, db2"
   ]
  },
  {
   "cell_type": "code",
   "execution_count": 8,
   "metadata": {},
   "outputs": [],
   "source": [
    "def train(model, X, y, num_passes=10000, reg_lambda = .1, learning_rate=0.1):\n",
    "    # Batch gradient descent\n",
    "    done = False\n",
    "    previous_loss = float('inf')\n",
    "    i = 0\n",
    "    losses = []\n",
    "    \n",
    "    while done == False:  \n",
    "        z1,a1,z2,output = feed_forward(model, X)\n",
    "        dW1, dW2, db1, db2 = backprop(X,y,model,z1,a1,z2,output,reg_lambda)\n",
    "        \n",
    "        model['W1'] -= learning_rate * dW1\n",
    "        model['b1'] -= learning_rate * db1\n",
    "        model['W2'] -= learning_rate * dW2\n",
    "        model['b2'] -= learning_rate * db2\n",
    "        \n",
    "        if i % 1000 == 0:\n",
    "            loss = calculate_loss(model, X, y, reg_lambda)\n",
    "            losses.append(loss)\n",
    "            print( \"Loss after iteration %i: %f\" %(i, loss)  )\n",
    "            if (previous_loss-loss)/previous_loss < 0.01:\n",
    "                   done = True\n",
    "                    #print i\n",
    "            previous_loss = loss\n",
    "        i += 1\n",
    "    return model, losses"
   ]
  },
  {
   "cell_type": "code",
   "execution_count": 9,
   "metadata": {},
   "outputs": [
    {
     "name": "stdout",
     "output_type": "stream",
     "text": [
      "2\n",
      "Loss after iteration 0: 0.800472\n",
      "Loss after iteration 1000: 0.014265\n",
      "Loss after iteration 2000: 0.009723\n"
     ]
    },
    {
     "name": "stderr",
     "output_type": "stream",
     "text": [
      "<ipython-input-8-ed45d153f481>:21: RuntimeWarning: invalid value encountered in double_scalars\n",
      "  if (previous_loss-loss)/previous_loss < 0.01:\n"
     ]
    },
    {
     "name": "stdout",
     "output_type": "stream",
     "text": [
      "Loss after iteration 3000: 0.008285\n",
      "Loss after iteration 4000: 0.007401\n",
      "Loss after iteration 5000: 0.006741\n",
      "Loss after iteration 6000: 0.006227\n",
      "Loss after iteration 7000: 0.005820\n",
      "Loss after iteration 8000: 0.005484\n",
      "Loss after iteration 9000: 0.005229\n",
      "Loss after iteration 10000: 0.005022\n",
      "Loss after iteration 11000: 0.004850\n",
      "Loss after iteration 12000: 0.004703\n",
      "Loss after iteration 13000: 0.004575\n",
      "Loss after iteration 14000: 0.004464\n",
      "Loss after iteration 15000: 0.004366\n",
      "Loss after iteration 16000: 0.004281\n",
      "Loss after iteration 17000: 0.004205\n",
      "Loss after iteration 18000: 0.004137\n",
      "Loss after iteration 19000: 0.004077\n",
      "Loss after iteration 20000: 0.004023\n",
      "Loss after iteration 21000: 0.003975\n",
      "Loss after iteration 22000: 0.003931\n",
      "Loss after iteration 23000: 0.003891\n",
      "Loss after iteration 24000: 0.003854\n"
     ]
    },
    {
     "data": {
      "text/plain": [
       "array([0, 0, 1, 1, 1])"
      ]
     },
     "execution_count": 9,
     "metadata": {},
     "output_type": "execute_result"
    }
   ],
   "source": [
    "X = np.array( [[ 1 , 1], [ 2 , 2],[ 7 , 7], [ 8 , 8], [ 9 , 9]] )\n",
    "y = np.array([0,0,1,1,1])\n",
    "\n",
    "##train\n",
    "model = build_model(X , 3 , 2)\n",
    "model, losses = train ( model, X , y , reg_lambda = 0.01, learning_rate = 0.01 )\n",
    "output = feed_forward(model, X)\n",
    "preds  = np.argmax(output[3] , axis=1)\n",
    "preds"
   ]
  },
  {
   "cell_type": "code",
   "execution_count": 10,
   "metadata": {},
   "outputs": [
    {
     "name": "stdout",
     "output_type": "stream",
     "text": [
      "Iteration 1, loss = 0.77242729\n",
      "Iteration 2, loss = 0.68148155\n",
      "Iteration 3, loss = 0.62225463\n",
      "Iteration 4, loss = 0.59184064\n",
      "Iteration 5, loss = 0.55574346\n",
      "Iteration 6, loss = 0.52604574\n",
      "Iteration 7, loss = 0.49736578\n",
      "Iteration 8, loss = 0.46831510\n",
      "Iteration 9, loss = 0.43823781\n",
      "Iteration 10, loss = 0.40642844\n",
      "Iteration 11, loss = 0.37520567\n",
      "Iteration 12, loss = 0.34415212\n",
      "Iteration 13, loss = 0.31474519\n",
      "Iteration 14, loss = 0.28753417\n",
      "Iteration 15, loss = 0.26192975\n",
      "Iteration 16, loss = 0.23746029\n",
      "Iteration 17, loss = 0.21458947\n",
      "Iteration 18, loss = 0.19340743\n",
      "Iteration 19, loss = 0.17390211\n",
      "Iteration 20, loss = 0.15610620\n",
      "Iteration 21, loss = 0.13998697\n",
      "Iteration 22, loss = 0.12547184\n",
      "Iteration 23, loss = 0.11246640\n",
      "Iteration 24, loss = 0.10086182\n",
      "Iteration 25, loss = 0.09054159\n",
      "Iteration 26, loss = 0.08138709\n",
      "Iteration 27, loss = 0.07328203\n",
      "Iteration 28, loss = 0.06611547\n",
      "Iteration 29, loss = 0.05978374\n",
      "Iteration 30, loss = 0.05419142\n",
      "Iteration 31, loss = 0.04925177\n",
      "Iteration 32, loss = 0.04488671\n",
      "Iteration 33, loss = 0.04102646\n",
      "Iteration 34, loss = 0.03760912\n",
      "Iteration 35, loss = 0.03457998\n",
      "Iteration 36, loss = 0.03189096\n",
      "Iteration 37, loss = 0.02949987\n",
      "Iteration 38, loss = 0.02736983\n",
      "Iteration 39, loss = 0.02546864\n",
      "Iteration 40, loss = 0.02376823\n",
      "Iteration 41, loss = 0.02224415\n",
      "Iteration 42, loss = 0.02087509\n",
      "Iteration 43, loss = 0.01964253\n",
      "Iteration 44, loss = 0.01853030\n",
      "Iteration 45, loss = 0.01752436\n",
      "Iteration 46, loss = 0.01661242\n",
      "Iteration 47, loss = 0.01578378\n",
      "Iteration 48, loss = 0.01502908\n",
      "Iteration 49, loss = 0.01434014\n",
      "Iteration 50, loss = 0.01370978\n",
      "Iteration 51, loss = 0.01313171\n",
      "Iteration 52, loss = 0.01260040\n",
      "Iteration 53, loss = 0.01211099\n",
      "Iteration 54, loss = 0.01165919\n",
      "Iteration 55, loss = 0.01124121\n",
      "Iteration 56, loss = 0.01085371\n",
      "Iteration 57, loss = 0.01049371\n",
      "Iteration 58, loss = 0.01015859\n",
      "Iteration 59, loss = 0.00984601\n",
      "Iteration 60, loss = 0.00955388\n",
      "Iteration 61, loss = 0.00928035\n",
      "Iteration 62, loss = 0.00902376\n",
      "Iteration 63, loss = 0.00878263\n",
      "Iteration 64, loss = 0.00855563\n",
      "Iteration 65, loss = 0.00834156\n",
      "Iteration 66, loss = 0.00813935\n",
      "Iteration 67, loss = 0.00794804\n",
      "Iteration 68, loss = 0.00776676\n",
      "Iteration 69, loss = 0.00759472\n",
      "Iteration 70, loss = 0.00743122\n",
      "Iteration 71, loss = 0.00727560\n",
      "Iteration 72, loss = 0.00712729\n",
      "Iteration 73, loss = 0.00698576\n",
      "Iteration 74, loss = 0.00685053\n",
      "Iteration 75, loss = 0.00672115\n",
      "Iteration 76, loss = 0.00659723\n",
      "Iteration 77, loss = 0.00647841\n",
      "Iteration 78, loss = 0.00636434\n",
      "Iteration 79, loss = 0.00625473\n",
      "Iteration 80, loss = 0.00614930\n",
      "Iteration 81, loss = 0.00604778\n",
      "Iteration 82, loss = 0.00594995\n",
      "Iteration 83, loss = 0.00585559\n",
      "Iteration 84, loss = 0.00576449\n",
      "Iteration 85, loss = 0.00567647\n",
      "Iteration 86, loss = 0.00559136\n",
      "Iteration 87, loss = 0.00550901\n",
      "Iteration 88, loss = 0.00542926\n",
      "Iteration 89, loss = 0.00535198\n",
      "Iteration 90, loss = 0.00527705\n",
      "Iteration 91, loss = 0.00520435\n",
      "Iteration 92, loss = 0.00513378\n",
      "Training loss did not improve more than tol=0.000100 for 10 consecutive epochs. Stopping.\n",
      "1.0\n",
      "1.0\n"
     ]
    }
   ],
   "source": [
    "from sklearn.neural_network import MLPClassifier\n",
    "import numpy as np \n",
    "\n",
    "model = MLPClassifier(hidden_layer_sizes=(8) , max_iter=110 , alpha=1e-4, solver='sgd', random_state=1 \n",
    "                     ,verbose=True , learning_rate_init=.1 )\n",
    "##train\n",
    "X_train = np.array( [[ 1 , 1], [3 , 3],[ 6 , 6], [ 7 , 7], [ 9 , 9]] )\n",
    "y_train = np.array([0,0,1,1,1])\n",
    "model.fit(X_train, y_train);\n",
    "print(model.score(X_train, y_train))\n",
    "\n",
    "##test data\n",
    "X_test = np.array( [[ 2 , 2] , [ 0 , 0], [ 11 , 11]] )\n",
    "y_test = np.array ([0 , 0 , 1])\n",
    "y_pred = model.predict(X_test)\n",
    "print(model.score(X_test, y_test))"
   ]
  }
 ],
 "metadata": {
  "kernelspec": {
   "display_name": "Python 3",
   "language": "python",
   "name": "python3"
  },
  "language_info": {
   "codemirror_mode": {
    "name": "ipython",
    "version": 3
   },
   "file_extension": ".py",
   "mimetype": "text/x-python",
   "name": "python",
   "nbconvert_exporter": "python",
   "pygments_lexer": "ipython3",
   "version": "3.8.10"
  }
 },
 "nbformat": 4,
 "nbformat_minor": 2
}
